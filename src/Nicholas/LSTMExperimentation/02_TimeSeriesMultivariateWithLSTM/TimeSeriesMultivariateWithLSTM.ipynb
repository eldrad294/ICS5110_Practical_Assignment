{
 "cells": [
  {
   "cell_type": "markdown",
   "metadata": {},
   "source": [
    "## Multivariate Time Series Forecasting with LSTMs in Keras\n",
    "### Adapted from:\n",
    "- https://machinelearningmastery.com/multivariate-time-series-forecasting-lstms-keras/\n",
    "- https://machinelearningmastery.com/convert-time-series-supervised-learning-problem-python/\n",
    "- ~/TimeSeriesExperimentation/01_TimeSeriesToSupervisedLearningProblem"
   ]
  },
  {
   "cell_type": "markdown",
   "metadata": {},
   "source": [
    "## Introduction\n",
    "- Neural networks like Long Short-Term Memory (LSTM) recurrent neural networks are able to almost seamlessly model problems with multiple input variables.\n",
    "- This is a great benefit in time series forecasting, where classical linear methods can be difficult to adapt to multivariate or multiple input forecasting problems.\n",
    "- In this tutorial, you will discover how you can develop an LSTM model for multivariate time series forecasting in the Keras deep learning library."
   ]
  },
  {
   "cell_type": "code",
   "execution_count": 24,
   "metadata": {},
   "outputs": [],
   "source": [
    "%reset -f\n",
    "\n",
    "import pandas as pd\n",
    "import numpy as np\n",
    "import math as mt\n",
    "import matplotlib.pyplot as plt\n",
    "\n",
    "# Keras\n",
    "from keras.models import Sequential\n",
    "from keras.layers import Dense\n",
    "from keras.layers import LSTM\n",
    "from keras.utils import plot_model\n",
    "\n",
    "# SkLearn\n",
    "import sklearn.preprocessing as SklPreProcessing\n",
    "import sklearn.metrics as SklMetrics\n",
    "\n",
    "# Other\n",
    "from datetime import datetime\n",
    "\n",
    "%matplotlib inline"
   ]
  },
  {
   "cell_type": "markdown",
   "metadata": {},
   "source": [
    "### 1. Air Pollution Forecasting\n",
    "\n",
    "- In this tutorial, we are going to use the Air Quality dataset.\n",
    "- This is a dataset that reports on the weather and the level of pollution each hour for five years at the US embassy in Beijing, China.\n",
    "- The data includes the date-time, the pollution called PM2.5 concentration, and the weather information including dew point, temperature, pressure, wind direction, wind speed and the cumulative number of hours of snow and rain. The complete feature list in the raw data is as follows:\n",
    "    - No: row number\n",
    "    - year: year of data in this row\n",
    "    - month: month of data in this row\n",
    "    - day: day of data in this row\n",
    "    - hour: hour of data in this row\n",
    "    - pm2.5: PM2.5 concentration\n",
    "    - DEWP: Dew Point\n",
    "    - TEMP: Temperature\n",
    "    - PRES: Pressure\n",
    "    - cbwd: Combined wind direction\n",
    "    - Iws: Cumulated wind speed\n",
    "    - Is: Cumulated hours of snow\n",
    "    - Ir: Cumulated hours of rain\n",
    "- We can use this data and frame a forecasting problem where, given the weather conditions and pollution for prior hours, we forecast the pollution at the next hour."
   ]
  },
  {
   "cell_type": "markdown",
   "metadata": {},
   "source": [
    "## 2. Basic Data Preparation\n",
    "- The data is not ready to use. We must prepare it first.\n",
    "- Below are the first few rows of the raw dataset:"
   ]
  },
  {
   "cell_type": "code",
   "execution_count": 25,
   "metadata": {},
   "outputs": [
    {
     "name": "stdout",
     "output_type": "stream",
     "text": [
      "   No  year  month  day  hour  pm2.5  DEWP  TEMP    PRES cbwd    Iws  Is  Ir\n",
      "0   1  2010      1    1     0    NaN   -21 -11.0  1021.0   NW   1.79   0   0\n",
      "1   2  2010      1    1     1    NaN   -21 -12.0  1020.0   NW   4.92   0   0\n",
      "2   3  2010      1    1     2    NaN   -21 -11.0  1019.0   NW   6.71   0   0\n",
      "3   4  2010      1    1     3    NaN   -21 -14.0  1019.0   NW   9.84   0   0\n",
      "4   5  2010      1    1     4    NaN   -20 -12.0  1018.0   NW  12.97   0   0\n",
      "5   6  2010      1    1     5    NaN   -19 -10.0  1017.0   NW  16.10   0   0\n",
      "6   7  2010      1    1     6    NaN   -19  -9.0  1017.0   NW  19.23   0   0\n",
      "7   8  2010      1    1     7    NaN   -19  -9.0  1017.0   NW  21.02   0   0\n",
      "8   9  2010      1    1     8    NaN   -19  -9.0  1017.0   NW  24.15   0   0\n",
      "9  10  2010      1    1     9    NaN   -20  -8.0  1017.0   NW  27.28   0   0\n"
     ]
    }
   ],
   "source": [
    "dataset = pd.read_csv('raw.csv')\n",
    "\n",
    "print dataset.head(10)"
   ]
  },
  {
   "cell_type": "markdown",
   "metadata": {},
   "source": [
    "- The first step is to consolidate the date-time information into a single date-time so that we can use it as an index in Pandas.\n",
    "- A quick check reveals NaN values for pm2.5 for the first 24 hours. We will, therefore, need to remove the first 24 rows of data. There are also a few scattered “NaN” values later in the dataset; we can mark them with 0 values for now.\n",
    "- The script below loads the raw dataset and parses the date-time information as the Pandas DataFrame index. The “No” column is dropped and then clearer names are specified for each column. Finally, the NaN values are replaced with “0” values and the first 24 hours are removed."
   ]
  },
  {
   "cell_type": "code",
   "execution_count": 26,
   "metadata": {},
   "outputs": [
    {
     "name": "stdout",
     "output_type": "stream",
     "text": [
      "                     pollution  dew  temp   press wnd_dir  wnd_spd  snow  rain\n",
      "date                                                                          \n",
      "2010-01-02 00:00:00      129.0  -16  -4.0  1020.0      SE     1.79     0     0\n",
      "2010-01-02 01:00:00      148.0  -15  -4.0  1020.0      SE     2.68     0     0\n",
      "2010-01-02 02:00:00      159.0  -11  -5.0  1021.0      SE     3.57     0     0\n",
      "2010-01-02 03:00:00      181.0   -7  -5.0  1022.0      SE     5.36     1     0\n",
      "2010-01-02 04:00:00      138.0   -7  -5.0  1022.0      SE     6.25     2     0\n"
     ]
    }
   ],
   "source": [
    "# load data\n",
    "def parse(x):\n",
    "    return datetime.strptime(x, '%Y %m %d %H')\n",
    "\n",
    "dataset = pd.read_csv('raw.csv',  parse_dates = [['year', 'month', 'day', 'hour']],\n",
    "                      index_col=0, date_parser=parse)\n",
    "\n",
    "# Drop the 'No' column\n",
    "dataset.drop('No', axis=1, inplace=True)\n",
    "\n",
    "# Manually specify meaningful column names\n",
    "dataset.columns = ['pollution', 'dew', 'temp', 'press', 'wnd_dir', 'wnd_spd', 'snow', 'rain']\n",
    "dataset.index.name = 'date'\n",
    "\n",
    "# Replace all NaN values with 0\n",
    "dataset['pollution'].fillna(0, inplace=True)\n",
    "\n",
    "# Drop the first 24 hours, i.e. first 24 data points\n",
    "dataset = dataset[24:]\n",
    "\n",
    "# Display the first 5 rows\n",
    "print(dataset.head(5))\n",
    "\n",
    "# Save to file\n",
    "dataset.to_csv('pollution.csv')"
   ]
  },
  {
   "cell_type": "markdown",
   "metadata": {},
   "source": [
    "- Now that we have the data in an easy-to-use form, we can create a quick plot of each series and see what we have.\n",
    "- The code below loads the new “pollution.csv” file and plots each series as a separate subplot, except wind speed direction, which is categorical."
   ]
  },
  {
   "cell_type": "code",
   "execution_count": 27,
   "metadata": {},
   "outputs": [
    {
     "name": "stdout",
     "output_type": "stream",
     "text": [
      "[129.0 -16 -4.0 1020.0 'SE' 1.79 0 0]\n"
     ]
    },
    {
     "data": {
      "image/png": "[encoded data removed]",
      "text/plain": [
       "<matplotlib.figure.Figure at 0x7f7c69170ed0>"
      ]
     },
     "metadata": {},
     "output_type": "display_data"
    }
   ],
   "source": [
    "# Load the newly created pollution dataset\n",
    "dataset = pd.read_csv('pollution.csv', header=0, index_col=0)\n",
    "values = dataset.values\n",
    "print values[0, :]\n",
    "# Specify columns to plot\n",
    "groups = [0, 1, 2, 3, 5, 6, 7]\n",
    "i = 1\n",
    "\n",
    "# Plot each column\n",
    "fig = plt.figure()\n",
    "fig.set_figwidth(10)\n",
    "fig.set_figheight(10)\n",
    "\n",
    "for group in groups:\n",
    "    plt.subplot(len(groups), 1, i)\n",
    "    plt.grid()\n",
    "    plt.plot(values[:, group])\n",
    "    plt.title(dataset.columns[group])\n",
    "    i += 1\n",
    "\n",
    "fig.tight_layout()\n",
    "plt.show()"
   ]
  },
  {
   "cell_type": "markdown",
   "metadata": {},
   "source": [
    "## 3. Multivariate LSTM Forecast Model\n",
    "- In this section, we will fit an LSTM to the problem.\n",
    "\n",
    "### 3.1. LSTM Data Preparation\n",
    "- The first step is to prepare the pollution dataset for the LSTM.\n",
    "- This involves framing the dataset as a supervised learning problem and normalizing the input variables.\n",
    "- We will frame the supervised learning problem as predicting the pollution at the current hour (t) given the pollution measurement and weather conditions at the prior time step.\n",
    "- This formulation is straightforward and just for this demonstration. Some alternate formulations you could explore include:\n",
    "    - Predict the pollution for the next hour based on the weather conditions and pollution over the last 24 hours.\n",
    "    - Predict the pollution for the next hour as above and given the “expected” weather conditions for the next hour.\n",
    "- First, the “pollution.csv” dataset is loaded. The wind speed feature is label encoded (integer encoded). This could further be one-hot encoded in the future if you are interested in exploring it.\n",
    "- Next, all features are normalized, then the dataset is transformed into a supervised learning problem. The weather variables for the hour to be predicted (t) are then removed."
   ]
  },
  {
   "cell_type": "code",
   "execution_count": 28,
   "metadata": {},
   "outputs": [],
   "source": [
    "# convert series to supervised learning\n",
    "def series_to_supervised(data, n_in=1, n_out=1, dropnan=True):\n",
    "    n_vars = 1 if type(data) is list else data.shape[1]\n",
    "    df = pd.DataFrame(data)\n",
    "    cols, names = list(), list()\n",
    "    \n",
    "    # input sequence (t-n, ... t-1)\n",
    "    for i in range(n_in, 0, -1):\n",
    "        cols.append(df.shift(i))\n",
    "        names += [('var%d(t-%d)' % (j+1, i)) for j in range(n_vars)]\n",
    "        \n",
    "    # forecast sequence (t, t+1, ... t+n)\n",
    "    for i in range(0, n_out):\n",
    "        cols.append(df.shift(-i))\n",
    "        if i == 0:\n",
    "            names += [('var%d(t)' % (j+1)) for j in range(n_vars)]\n",
    "        else:\n",
    "            names += [('var%d(t+%d)' % (j+1, i)) for j in range(n_vars)]\n",
    "            \n",
    "    # put it all together\n",
    "    agg = pd.concat(cols, axis=1)\n",
    "    agg.columns = names\n",
    "    \n",
    "    # drop rows with NaN values\n",
    "    if dropnan:\n",
    "        agg.dropna(inplace=True)\n",
    "        \n",
    "    return agg"
   ]
  },
  {
   "cell_type": "code",
   "execution_count": 34,
   "metadata": {},
   "outputs": [
    {
     "name": "stdout",
     "output_type": "stream",
     "text": [
      "   var1(t-1)  var2(t-1)  var3(t-1)  var4(t-1)  var5(t-1)  var6(t-1)  \\\n",
      "1   0.129779   0.352941   0.245902   0.527273   0.666667   0.002290   \n",
      "2   0.148893   0.367647   0.245902   0.527273   0.666667   0.003811   \n",
      "3   0.159960   0.426471   0.229508   0.545454   0.666667   0.005332   \n",
      "4   0.182093   0.485294   0.229508   0.563637   0.666667   0.008391   \n",
      "5   0.138833   0.485294   0.229508   0.563637   0.666667   0.009912   \n",
      "\n",
      "   var7(t-1)  var8(t-1)   var1(t)  \n",
      "1   0.000000        0.0  0.148893  \n",
      "2   0.000000        0.0  0.159960  \n",
      "3   0.000000        0.0  0.182093  \n",
      "4   0.037037        0.0  0.138833  \n",
      "5   0.074074        0.0  0.109658  \n"
     ]
    }
   ],
   "source": [
    "# load dataset\n",
    "dataset = pd.read_csv('pollution.csv', header=0, index_col=0)\n",
    "values = dataset.values\n",
    "\n",
    "# integer encode direction\n",
    "encoder = SklPreProcessing.LabelEncoder()\n",
    "values[:,4] = encoder.fit_transform(values[:,4])\n",
    "\n",
    "# ensure all data is float\n",
    "values = values.astype('float32')\n",
    "\n",
    "# normalize features\n",
    "scaler = SklPreProcessing.MinMaxScaler(feature_range=(0, 1))\n",
    "scaled = scaler.fit_transform(values)\n",
    "\n",
    "# frame as supervised learning\n",
    "lookBack = 1\n",
    "lookAhead = 1\n",
    "reframed = series_to_supervised(scaled, lookBack, lookAhead)\n",
    "\n",
    "# drop columns we don't want to predict\n",
    "reframed.drop(reframed.columns[[9,10,11,12,13,14,15]], axis=1, inplace=True)\n",
    "print(reframed.head())\n",
    "# print reframed.keys()\n"
   ]
  },
  {
   "cell_type": "markdown",
   "metadata": {},
   "source": [
    "- This data preparation is simple and there is more we could explore. Some ideas you could look at include:\n",
    "    - One-hot encoding wind speed.\n",
    "    - Making all series stationary with differencing and seasonal adjustment.\n",
    "    - Providing more than 1 hour of input time steps.\n",
    "- This last point is perhaps the most important given the use of Backpropagation through time by LSTMs when learning sequence prediction problems."
   ]
  },
  {
   "cell_type": "markdown",
   "metadata": {},
   "source": [
    "### 3.2. Define and Fit Model\n",
    "- In this section, we will fit an LSTM on the multivariate input data.\n",
    "- First, we must split the prepared dataset into train and test sets. To speed up the training of the model for this demonstration, we will only fit the model on the first year of data, then evaluate it on the remaining 4 years of data. **If you have time, consider exploring the inverted version of this test harness.**\n",
    "- The example below splits the dataset into train and test sets, then splits the train and test sets into input and output variables. Finally, the inputs (X) are reshaped into the 3D format expected by LSTMs, namely [samples, timesteps, features]."
   ]
  },
  {
   "cell_type": "code",
   "execution_count": 35,
   "metadata": {},
   "outputs": [
    {
     "name": "stdout",
     "output_type": "stream",
     "text": [
      "train_X.shape:  (8760, 1, 8)\n",
      "train_y.shape:  (8760,)\n",
      "---------------\n",
      "test_X.shape:   (35039, 1, 8)\n",
      "test_y.shape:   (35039,)\n"
     ]
    }
   ],
   "source": [
    "# split into train and test sets\n",
    "values = reframed.values\n",
    "n_train_hours = 365 * 24 # 1 year\n",
    "train = values[:n_train_hours, :]\n",
    "test = values[n_train_hours:, :]\n",
    "\n",
    "# split into input and outputs\n",
    "train_X, train_y = train[:, :-1], train[:, -1]\n",
    "test_X, test_y = test[:, :-1], test[:, -1]\n",
    "\n",
    "# reshape input to be 3D [samples, timesteps, features]\n",
    "train_X = train_X.reshape((train_X.shape[0], 1, train_X.shape[1]))\n",
    "test_X = test_X.reshape((test_X.shape[0], 1, test_X.shape[1]))\n",
    "\n",
    "print \"train_X.shape: \", train_X.shape\n",
    "print \"train_y.shape: \", train_y.shape\n",
    "print \"---------------\"\n",
    "print \"test_X.shape:  \", test_X.shape\n",
    "print \"test_y.shape:  \", test_y.shape"
   ]
  },
  {
   "cell_type": "markdown",
   "metadata": {},
   "source": [
    "- Now we can define and fit our LSTM model.\n",
    "- We will define the LSTM with 50 neurons in the first hidden layer and 1 neuron in the output layer for predicting pollution. The input shape will be 1 time step with 8 features.\n",
    "- We will use the Mean Absolute Error (MAE) loss function and the efficient Adam version of stochastic gradient descent.\n",
    "- The model will be fit for 50 training epochs with a batch size of 72. Remember that the internal state of the LSTM in Keras is reset at the end of each batch, so an internal state that is a function of a number of days may be helpful (try testing this).\n",
    "- Finally, we keep track of both the training and test loss during training by setting the validation_data argument in the fit() function. At the end of the run both the training and test loss are plotted."
   ]
  },
  {
   "cell_type": "code",
   "execution_count": 36,
   "metadata": {},
   "outputs": [
    {
     "name": "stdout",
     "output_type": "stream",
     "text": [
      "(1, 8)\n"
     ]
    }
   ],
   "source": [
    "# design network\n",
    "model = Sequential()\n",
    "\n",
    "print (train_X.shape[1], train_X.shape[2])\n",
    "\n",
    "model.add(LSTM(50, input_shape=(train_X.shape[1], train_X.shape[2])))\n",
    "model.add(Dense(1))\n",
    "model.compile(loss='mae', optimizer='adam')\n",
    "\n",
    "# Visualize LSTM network\n",
    "plot_model(model, to_file='model_1.png', show_shapes=True)"
   ]
  },
  {
   "cell_type": "code",
   "execution_count": 37,
   "metadata": {},
   "outputs": [
    {
     "name": "stdout",
     "output_type": "stream",
     "text": [
      "Train on 8760 samples, validate on 35039 samples\n",
      "Epoch 1/50\n",
      " - 1s - loss: 0.0576 - val_loss: 0.0579\n",
      "Epoch 2/50\n",
      " - 1s - loss: 0.0417 - val_loss: 0.0580\n",
      "Epoch 3/50\n",
      " - 1s - loss: 0.0261 - val_loss: 0.0474\n",
      "Epoch 4/50\n",
      " - 1s - loss: 0.0177 - val_loss: 0.0358\n",
      "Epoch 5/50\n",
      " - 1s - loss: 0.0154 - val_loss: 0.0194\n",
      "Epoch 6/50\n",
      " - 1s - loss: 0.0149 - val_loss: 0.0155\n",
      "Epoch 7/50\n",
      " - 1s - loss: 0.0147 - val_loss: 0.0148\n",
      "Epoch 8/50\n",
      " - 1s - loss: 0.0149 - val_loss: 0.0145\n",
      "Epoch 9/50\n",
      " - 1s - loss: 0.0147 - val_loss: 0.0144\n",
      "Epoch 10/50\n",
      " - 1s - loss: 0.0148 - val_loss: 0.0143\n",
      "Epoch 11/50\n",
      " - 1s - loss: 0.0148 - val_loss: 0.0140\n",
      "Epoch 12/50\n",
      " - 1s - loss: 0.0147 - val_loss: 0.0141\n",
      "Epoch 13/50\n",
      " - 1s - loss: 0.0147 - val_loss: 0.0140\n",
      "Epoch 14/50\n",
      " - 1s - loss: 0.0147 - val_loss: 0.0140\n",
      "Epoch 15/50\n",
      " - 1s - loss: 0.0147 - val_loss: 0.0139\n",
      "Epoch 16/50\n",
      " - 1s - loss: 0.0145 - val_loss: 0.0136\n",
      "Epoch 17/50\n",
      " - 1s - loss: 0.0144 - val_loss: 0.0134\n",
      "Epoch 18/50\n",
      " - 1s - loss: 0.0145 - val_loss: 0.0134\n",
      "Epoch 19/50\n",
      " - 1s - loss: 0.0144 - val_loss: 0.0133\n",
      "Epoch 20/50\n",
      " - 1s - loss: 0.0144 - val_loss: 0.0133\n",
      "Epoch 21/50\n",
      " - 1s - loss: 0.0145 - val_loss: 0.0133\n",
      "Epoch 22/50\n",
      " - 1s - loss: 0.0144 - val_loss: 0.0133\n",
      "Epoch 23/50\n",
      " - 1s - loss: 0.0144 - val_loss: 0.0132\n",
      "Epoch 24/50\n",
      " - 1s - loss: 0.0144 - val_loss: 0.0133\n",
      "Epoch 25/50\n",
      " - 1s - loss: 0.0145 - val_loss: 0.0135\n",
      "Epoch 26/50\n",
      " - 1s - loss: 0.0145 - val_loss: 0.0134\n",
      "Epoch 27/50\n",
      " - 1s - loss: 0.0144 - val_loss: 0.0134\n",
      "Epoch 28/50\n",
      " - 1s - loss: 0.0144 - val_loss: 0.0137\n",
      "Epoch 29/50\n",
      " - 1s - loss: 0.0146 - val_loss: 0.0134\n",
      "Epoch 30/50\n",
      " - 1s - loss: 0.0144 - val_loss: 0.0134\n",
      "Epoch 31/50\n",
      " - 1s - loss: 0.0144 - val_loss: 0.0135\n",
      "Epoch 32/50\n",
      " - 1s - loss: 0.0145 - val_loss: 0.0134\n",
      "Epoch 33/50\n",
      " - 1s - loss: 0.0144 - val_loss: 0.0134\n",
      "Epoch 34/50\n",
      " - 1s - loss: 0.0144 - val_loss: 0.0135\n",
      "Epoch 35/50\n",
      " - 1s - loss: 0.0144 - val_loss: 0.0133\n",
      "Epoch 36/50\n",
      " - 1s - loss: 0.0144 - val_loss: 0.0133\n",
      "Epoch 37/50\n",
      " - 1s - loss: 0.0145 - val_loss: 0.0136\n",
      "Epoch 38/50\n",
      " - 1s - loss: 0.0145 - val_loss: 0.0134\n",
      "Epoch 39/50\n",
      " - 1s - loss: 0.0144 - val_loss: 0.0135\n",
      "Epoch 40/50\n",
      " - 1s - loss: 0.0144 - val_loss: 0.0135\n",
      "Epoch 41/50\n",
      " - 1s - loss: 0.0143 - val_loss: 0.0134\n",
      "Epoch 42/50\n",
      " - 1s - loss: 0.0144 - val_loss: 0.0133\n",
      "Epoch 43/50\n",
      " - 1s - loss: 0.0144 - val_loss: 0.0134\n",
      "Epoch 44/50\n",
      " - 1s - loss: 0.0144 - val_loss: 0.0133\n",
      "Epoch 45/50\n",
      " - 1s - loss: 0.0144 - val_loss: 0.0133\n",
      "Epoch 46/50\n",
      " - 1s - loss: 0.0143 - val_loss: 0.0133\n",
      "Epoch 47/50\n",
      " - 1s - loss: 0.0143 - val_loss: 0.0133\n",
      "Epoch 48/50\n",
      " - 1s - loss: 0.0144 - val_loss: 0.0133\n",
      "Epoch 49/50\n",
      " - 1s - loss: 0.0143 - val_loss: 0.0132\n",
      "Epoch 50/50\n",
      " - 1s - loss: 0.0143 - val_loss: 0.0132\n"
     ]
    }
   ],
   "source": [
    "# fit network\n",
    "history = model.fit(train_X, train_y, epochs=50, batch_size=72,\n",
    "                    validation_data=(test_X, test_y), verbose=2, shuffle=False)"
   ]
  },
  {
   "cell_type": "code",
   "execution_count": 38,
   "metadata": {},
   "outputs": [
    {
     "data": {
      "image/png": "[encoded data removed]",
      "text/plain": [
       "<matplotlib.figure.Figure at 0x7f7c502fdc50>"
      ]
     },
     "metadata": {},
     "output_type": "display_data"
    }
   ],
   "source": [
    "# plot history\n",
    "plt.plot(history.history['loss'], label='train')\n",
    "plt.plot(history.history['val_loss'], label='test')\n",
    "plt.grid()\n",
    "plt.legend()\n",
    "plt.show()"
   ]
  },
  {
   "cell_type": "markdown",
   "metadata": {},
   "source": [
    "### 3.3. Evaluate Model\n",
    "- After the model is fit, we can forecast for the entire test dataset.\n",
    "- We combine the forecast with the test dataset and invert the scaling. We also invert scaling on the test dataset with the expected pollution numbers.\n",
    "- With forecasts and actual values in their original scale, we can then calculate an error score for the model. In this case, we calculate the Root Mean Squared Error (RMSE) that gives error in the same units as the variable itself.\n",
    "- Running the example first creates a plot showing the train and test loss during training.\n",
    "- Interestingly, we can see that test loss drops below training loss. The model may be overfitting the training data. Measuring and plotting RMSE during training may shed more light on this.\n",
    "- The Train and test loss are printed at the end of each training epoch. At the end of the run, the final RMSE of the model on the test dataset is printed.\n",
    "- We can see that the model achieves a respectable RMSE of 26.496, which is lower than an RMSE of 30 found with a persistence model."
   ]
  },
  {
   "cell_type": "code",
   "execution_count": 39,
   "metadata": {},
   "outputs": [
    {
     "name": "stdout",
     "output_type": "stream",
     "text": [
      "Test RMSE: 26.335\n"
     ]
    }
   ],
   "source": [
    "# make a prediction\n",
    "yhat = model.predict(test_X)\n",
    "test_X = test_X.reshape((test_X.shape[0], test_X.shape[2]))\n",
    "\n",
    "# invert scaling for forecast\n",
    "inv_yhat = np.concatenate((yhat, test_X[:, 1:]), axis=1)\n",
    "inv_yhat = scaler.inverse_transform(inv_yhat)\n",
    "inv_yhat = inv_yhat[:,0]\n",
    "\n",
    "# invert scaling for actual\n",
    "test_y = test_y.reshape((len(test_y), 1))\n",
    "inv_y = np.concatenate((test_y, test_X[:, 1:]), axis=1)\n",
    "inv_y = scaler.inverse_transform(inv_y)\n",
    "inv_y = inv_y[:,0]\n",
    "\n",
    "# calculate RMSE\n",
    "rmse = mt.sqrt(SklMetrics.mean_squared_error(inv_y, inv_yhat))\n",
    "print('Test RMSE: %.3f' % rmse)"
   ]
  },
  {
   "cell_type": "markdown",
   "metadata": {},
   "source": [
    "## Train On Multiple Lag Timesteps Example"
   ]
  },
  {
   "cell_type": "code",
   "execution_count": 40,
   "metadata": {},
   "outputs": [
    {
     "name": "stdout",
     "output_type": "stream",
     "text": [
      "(43797, 32)\n"
     ]
    }
   ],
   "source": [
    "# load dataset\n",
    "dataset = pd.read_csv('pollution.csv', header=0, index_col=0)\n",
    "values = dataset.values\n",
    "\n",
    "# integer encode direction\n",
    "encoder = SklPreProcessing.LabelEncoder()\n",
    "values[:,4] = encoder.fit_transform(values[:,4])\n",
    "\n",
    "# ensure all data is float\n",
    "values = values.astype('float32')\n",
    "\n",
    "# normalize features\n",
    "scaler = SklPreProcessing.MinMaxScaler(feature_range=(0, 1))\n",
    "scaled = scaler.fit_transform(values)\n",
    "\n",
    "# specify the number of lag hours\n",
    "n_hours = 3\n",
    "n_features = 8\n",
    "\n",
    "# frame as supervised learning\n",
    "reframed = series_to_supervised(scaled, n_hours, 1)\n",
    "print(reframed.shape)"
   ]
  },
  {
   "cell_type": "markdown",
   "metadata": {},
   "source": [
    "- Next, we need to be more careful in specifying the column for input and output.\n",
    "- We have 3 x 8 + 8 columns in our framed dataset. We will take 3 x 8 or 24 columns as input for the obs of all features across the previous 3 hours. We will take just the pollution variable as output at the following hour, as follows:"
   ]
  },
  {
   "cell_type": "code",
   "execution_count": 41,
   "metadata": {},
   "outputs": [
    {
     "data": {
      "text/html": [
       "<div>\n",
       "<style scoped>\n",
       "    .dataframe tbody tr th:only-of-type {\n",
       "        vertical-align: middle;\n",
       "    }\n",
       "\n",
       "    .dataframe tbody tr th {\n",
       "        vertical-align: top;\n",
       "    }\n",
       "\n",
       "    .dataframe thead th {\n",
       "        text-align: right;\n",
       "    }\n",
       "</style>\n",
       "<table border=\"1\" class=\"dataframe\">\n",
       "  <thead>\n",
       "    <tr style=\"text-align: right;\">\n",
       "      <th></th>\n",
       "      <th>var1(t-3)</th>\n",
       "      <th>var2(t-3)</th>\n",
       "      <th>var3(t-3)</th>\n",
       "      <th>var4(t-3)</th>\n",
       "      <th>var5(t-3)</th>\n",
       "      <th>var6(t-3)</th>\n",
       "      <th>var7(t-3)</th>\n",
       "      <th>var8(t-3)</th>\n",
       "      <th>var1(t-2)</th>\n",
       "      <th>var2(t-2)</th>\n",
       "      <th>...</th>\n",
       "      <th>var7(t-1)</th>\n",
       "      <th>var8(t-1)</th>\n",
       "      <th>var1(t)</th>\n",
       "      <th>var2(t)</th>\n",
       "      <th>var3(t)</th>\n",
       "      <th>var4(t)</th>\n",
       "      <th>var5(t)</th>\n",
       "      <th>var6(t)</th>\n",
       "      <th>var7(t)</th>\n",
       "      <th>var8(t)</th>\n",
       "    </tr>\n",
       "  </thead>\n",
       "  <tbody>\n",
       "    <tr>\n",
       "      <th>3</th>\n",
       "      <td>0.129779</td>\n",
       "      <td>0.352941</td>\n",
       "      <td>0.245902</td>\n",
       "      <td>0.527273</td>\n",
       "      <td>0.666667</td>\n",
       "      <td>0.002290</td>\n",
       "      <td>0.000000</td>\n",
       "      <td>0.0</td>\n",
       "      <td>0.148893</td>\n",
       "      <td>0.367647</td>\n",
       "      <td>...</td>\n",
       "      <td>0.000000</td>\n",
       "      <td>0.0</td>\n",
       "      <td>0.182093</td>\n",
       "      <td>0.485294</td>\n",
       "      <td>0.229508</td>\n",
       "      <td>0.563637</td>\n",
       "      <td>0.666667</td>\n",
       "      <td>0.008391</td>\n",
       "      <td>0.037037</td>\n",
       "      <td>0.0</td>\n",
       "    </tr>\n",
       "    <tr>\n",
       "      <th>4</th>\n",
       "      <td>0.148893</td>\n",
       "      <td>0.367647</td>\n",
       "      <td>0.245902</td>\n",
       "      <td>0.527273</td>\n",
       "      <td>0.666667</td>\n",
       "      <td>0.003811</td>\n",
       "      <td>0.000000</td>\n",
       "      <td>0.0</td>\n",
       "      <td>0.159960</td>\n",
       "      <td>0.426471</td>\n",
       "      <td>...</td>\n",
       "      <td>0.037037</td>\n",
       "      <td>0.0</td>\n",
       "      <td>0.138833</td>\n",
       "      <td>0.485294</td>\n",
       "      <td>0.229508</td>\n",
       "      <td>0.563637</td>\n",
       "      <td>0.666667</td>\n",
       "      <td>0.009912</td>\n",
       "      <td>0.074074</td>\n",
       "      <td>0.0</td>\n",
       "    </tr>\n",
       "    <tr>\n",
       "      <th>5</th>\n",
       "      <td>0.159960</td>\n",
       "      <td>0.426471</td>\n",
       "      <td>0.229508</td>\n",
       "      <td>0.545454</td>\n",
       "      <td>0.666667</td>\n",
       "      <td>0.005332</td>\n",
       "      <td>0.000000</td>\n",
       "      <td>0.0</td>\n",
       "      <td>0.182093</td>\n",
       "      <td>0.485294</td>\n",
       "      <td>...</td>\n",
       "      <td>0.074074</td>\n",
       "      <td>0.0</td>\n",
       "      <td>0.109658</td>\n",
       "      <td>0.485294</td>\n",
       "      <td>0.213115</td>\n",
       "      <td>0.563637</td>\n",
       "      <td>0.666667</td>\n",
       "      <td>0.011433</td>\n",
       "      <td>0.111111</td>\n",
       "      <td>0.0</td>\n",
       "    </tr>\n",
       "    <tr>\n",
       "      <th>6</th>\n",
       "      <td>0.182093</td>\n",
       "      <td>0.485294</td>\n",
       "      <td>0.229508</td>\n",
       "      <td>0.563637</td>\n",
       "      <td>0.666667</td>\n",
       "      <td>0.008391</td>\n",
       "      <td>0.037037</td>\n",
       "      <td>0.0</td>\n",
       "      <td>0.138833</td>\n",
       "      <td>0.485294</td>\n",
       "      <td>...</td>\n",
       "      <td>0.111111</td>\n",
       "      <td>0.0</td>\n",
       "      <td>0.105634</td>\n",
       "      <td>0.485294</td>\n",
       "      <td>0.213115</td>\n",
       "      <td>0.581818</td>\n",
       "      <td>0.666667</td>\n",
       "      <td>0.014492</td>\n",
       "      <td>0.148148</td>\n",
       "      <td>0.0</td>\n",
       "    </tr>\n",
       "    <tr>\n",
       "      <th>7</th>\n",
       "      <td>0.138833</td>\n",
       "      <td>0.485294</td>\n",
       "      <td>0.229508</td>\n",
       "      <td>0.563637</td>\n",
       "      <td>0.666667</td>\n",
       "      <td>0.009912</td>\n",
       "      <td>0.074074</td>\n",
       "      <td>0.0</td>\n",
       "      <td>0.109658</td>\n",
       "      <td>0.485294</td>\n",
       "      <td>...</td>\n",
       "      <td>0.148148</td>\n",
       "      <td>0.0</td>\n",
       "      <td>0.124748</td>\n",
       "      <td>0.485294</td>\n",
       "      <td>0.229508</td>\n",
       "      <td>0.600000</td>\n",
       "      <td>0.666667</td>\n",
       "      <td>0.017551</td>\n",
       "      <td>0.000000</td>\n",
       "      <td>0.0</td>\n",
       "    </tr>\n",
       "  </tbody>\n",
       "</table>\n",
       "<p>5 rows × 32 columns</p>\n",
       "</div>"
      ],
      "text/plain": [
       "   var1(t-3)  var2(t-3)  var3(t-3)  var4(t-3)  var5(t-3)  var6(t-3)  \\\n",
       "3   0.129779   0.352941   0.245902   0.527273   0.666667   0.002290   \n",
       "4   0.148893   0.367647   0.245902   0.527273   0.666667   0.003811   \n",
       "5   0.159960   0.426471   0.229508   0.545454   0.666667   0.005332   \n",
       "6   0.182093   0.485294   0.229508   0.563637   0.666667   0.008391   \n",
       "7   0.138833   0.485294   0.229508   0.563637   0.666667   0.009912   \n",
       "\n",
       "   var7(t-3)  var8(t-3)  var1(t-2)  var2(t-2)   ...     var7(t-1)  var8(t-1)  \\\n",
       "3   0.000000        0.0   0.148893   0.367647   ...      0.000000        0.0   \n",
       "4   0.000000        0.0   0.159960   0.426471   ...      0.037037        0.0   \n",
       "5   0.000000        0.0   0.182093   0.485294   ...      0.074074        0.0   \n",
       "6   0.037037        0.0   0.138833   0.485294   ...      0.111111        0.0   \n",
       "7   0.074074        0.0   0.109658   0.485294   ...      0.148148        0.0   \n",
       "\n",
       "    var1(t)   var2(t)   var3(t)   var4(t)   var5(t)   var6(t)   var7(t)  \\\n",
       "3  0.182093  0.485294  0.229508  0.563637  0.666667  0.008391  0.037037   \n",
       "4  0.138833  0.485294  0.229508  0.563637  0.666667  0.009912  0.074074   \n",
       "5  0.109658  0.485294  0.213115  0.563637  0.666667  0.011433  0.111111   \n",
       "6  0.105634  0.485294  0.213115  0.581818  0.666667  0.014492  0.148148   \n",
       "7  0.124748  0.485294  0.229508  0.600000  0.666667  0.017551  0.000000   \n",
       "\n",
       "   var8(t)  \n",
       "3      0.0  \n",
       "4      0.0  \n",
       "5      0.0  \n",
       "6      0.0  \n",
       "7      0.0  \n",
       "\n",
       "[5 rows x 32 columns]"
      ]
     },
     "execution_count": 41,
     "metadata": {},
     "output_type": "execute_result"
    }
   ],
   "source": [
    "reframed.head(5)"
   ]
  },
  {
   "cell_type": "code",
   "execution_count": 42,
   "metadata": {},
   "outputs": [
    {
     "name": "stdout",
     "output_type": "stream",
     "text": [
      "((8760, 24), 8760, (8760,))\n",
      "((8760, 3, 8), (8760,), (35037, 3, 8), (35037,))\n"
     ]
    }
   ],
   "source": [
    "# split into train and test sets\n",
    "values = reframed.values\n",
    "n_train_hours = 365 * 24\n",
    "train = values[:n_train_hours, :]\n",
    "test = values[n_train_hours:, :]\n",
    "\n",
    "# split into input and outputs\n",
    "n_obs = n_hours * n_features\n",
    "train_X, train_y = train[:, :n_obs], train[:, -n_features]\n",
    "test_X, test_y = test[:, :n_obs], test[:, -n_features]\n",
    "print(train_X.shape, len(train_X), train_y.shape)\n",
    "\n",
    "# reshape input to be 3D [samples, timesteps, features]\n",
    "train_X = train_X.reshape((train_X.shape[0], n_hours, n_features))\n",
    "test_X = test_X.reshape((test_X.shape[0], n_hours, n_features))\n",
    "print(train_X.shape, train_y.shape, test_X.shape, test_y.shape)"
   ]
  },
  {
   "cell_type": "code",
   "execution_count": 43,
   "metadata": {},
   "outputs": [
    {
     "name": "stdout",
     "output_type": "stream",
     "text": [
      "(3, 8)\n"
     ]
    }
   ],
   "source": [
    "# design network\n",
    "model = Sequential()\n",
    "\n",
    "print (train_X.shape[1], train_X.shape[2])\n",
    "\n",
    "model.add(LSTM(50, input_shape=(train_X.shape[1], train_X.shape[2])))\n",
    "model.add(Dense(1))\n",
    "model.compile(loss='mae', optimizer='adam')\n",
    "\n",
    "# Visualize LSTM network\n",
    "plot_model(model, to_file='model_2.png', show_shapes=True)"
   ]
  },
  {
   "cell_type": "code",
   "execution_count": 44,
   "metadata": {},
   "outputs": [
    {
     "name": "stdout",
     "output_type": "stream",
     "text": [
      "Train on 8760 samples, validate on 35037 samples\n",
      "Epoch 1/50\n",
      " - 1s - loss: 0.0456 - val_loss: 0.0664\n",
      "Epoch 2/50\n",
      " - 1s - loss: 0.0251 - val_loss: 0.0413\n",
      "Epoch 3/50\n",
      " - 1s - loss: 0.0213 - val_loss: 0.0287\n",
      "Epoch 4/50\n",
      " - 1s - loss: 0.0210 - val_loss: 0.0279\n",
      "Epoch 5/50\n",
      " - 1s - loss: 0.0204 - val_loss: 0.0251\n",
      "Epoch 6/50\n",
      " - 1s - loss: 0.0195 - val_loss: 0.0202\n",
      "Epoch 7/50\n",
      " - 1s - loss: 0.0191 - val_loss: 0.0196\n",
      "Epoch 8/50\n",
      " - 1s - loss: 0.0187 - val_loss: 0.0189\n",
      "Epoch 9/50\n",
      " - 1s - loss: 0.0184 - val_loss: 0.0190\n",
      "Epoch 10/50\n",
      " - 1s - loss: 0.0178 - val_loss: 0.0180\n",
      "Epoch 11/50\n",
      " - 1s - loss: 0.0171 - val_loss: 0.0178\n",
      "Epoch 12/50\n",
      " - 1s - loss: 0.0167 - val_loss: 0.0179\n",
      "Epoch 13/50\n",
      " - 1s - loss: 0.0162 - val_loss: 0.0177\n",
      "Epoch 14/50\n",
      " - 1s - loss: 0.0158 - val_loss: 0.0184\n",
      "Epoch 15/50\n",
      " - 1s - loss: 0.0155 - val_loss: 0.0183\n",
      "Epoch 16/50\n",
      " - 1s - loss: 0.0152 - val_loss: 0.0184\n",
      "Epoch 17/50\n",
      " - 1s - loss: 0.0151 - val_loss: 0.0176\n",
      "Epoch 18/50\n",
      " - 1s - loss: 0.0150 - val_loss: 0.0176\n",
      "Epoch 19/50\n",
      " - 1s - loss: 0.0148 - val_loss: 0.0182\n",
      "Epoch 20/50\n",
      " - 1s - loss: 0.0148 - val_loss: 0.0177\n",
      "Epoch 21/50\n",
      " - 1s - loss: 0.0148 - val_loss: 0.0171\n",
      "Epoch 22/50\n",
      " - 1s - loss: 0.0147 - val_loss: 0.0169\n",
      "Epoch 23/50\n",
      " - 1s - loss: 0.0145 - val_loss: 0.0169\n",
      "Epoch 24/50\n",
      " - 1s - loss: 0.0145 - val_loss: 0.0170\n",
      "Epoch 25/50\n",
      " - 1s - loss: 0.0145 - val_loss: 0.0166\n",
      "Epoch 26/50\n",
      " - 1s - loss: 0.0145 - val_loss: 0.0169\n",
      "Epoch 27/50\n",
      " - 1s - loss: 0.0144 - val_loss: 0.0169\n",
      "Epoch 28/50\n",
      " - 1s - loss: 0.0144 - val_loss: 0.0167\n",
      "Epoch 29/50\n",
      " - 1s - loss: 0.0144 - val_loss: 0.0165\n",
      "Epoch 30/50\n",
      " - 1s - loss: 0.0145 - val_loss: 0.0160\n",
      "Epoch 31/50\n",
      " - 1s - loss: 0.0144 - val_loss: 0.0158\n",
      "Epoch 32/50\n",
      " - 1s - loss: 0.0145 - val_loss: 0.0154\n",
      "Epoch 33/50\n",
      " - 1s - loss: 0.0142 - val_loss: 0.0147\n",
      "Epoch 34/50\n",
      " - 1s - loss: 0.0145 - val_loss: 0.0159\n",
      "Epoch 35/50\n",
      " - 1s - loss: 0.0141 - val_loss: 0.0149\n",
      "Epoch 36/50\n",
      " - 1s - loss: 0.0144 - val_loss: 0.0159\n",
      "Epoch 37/50\n",
      " - 1s - loss: 0.0142 - val_loss: 0.0143\n",
      "Epoch 38/50\n",
      " - 1s - loss: 0.0143 - val_loss: 0.0152\n",
      "Epoch 39/50\n",
      " - 1s - loss: 0.0143 - val_loss: 0.0151\n",
      "Epoch 40/50\n",
      " - 1s - loss: 0.0143 - val_loss: 0.0147\n",
      "Epoch 41/50\n",
      " - 1s - loss: 0.0141 - val_loss: 0.0143\n",
      "Epoch 42/50\n",
      " - 1s - loss: 0.0143 - val_loss: 0.0149\n",
      "Epoch 43/50\n",
      " - 1s - loss: 0.0141 - val_loss: 0.0141\n",
      "Epoch 44/50\n",
      " - 1s - loss: 0.0143 - val_loss: 0.0143\n",
      "Epoch 45/50\n",
      " - 1s - loss: 0.0141 - val_loss: 0.0139\n",
      "Epoch 46/50\n",
      " - 1s - loss: 0.0143 - val_loss: 0.0143\n",
      "Epoch 47/50\n",
      " - 1s - loss: 0.0142 - val_loss: 0.0139\n",
      "Epoch 48/50\n",
      " - 1s - loss: 0.0143 - val_loss: 0.0141\n",
      "Epoch 49/50\n",
      " - 1s - loss: 0.0143 - val_loss: 0.0138\n",
      "Epoch 50/50\n",
      " - 1s - loss: 0.0142 - val_loss: 0.0137\n"
     ]
    }
   ],
   "source": [
    "# fit network\n",
    "history = model.fit(train_X, train_y, epochs=50, batch_size=72,\n",
    "                    validation_data=(test_X, test_y), verbose=2, shuffle=False)"
   ]
  },
  {
   "cell_type": "code",
   "execution_count": 45,
   "metadata": {},
   "outputs": [
    {
     "data": {
      "image/png": "[encoded data removed]",
      "text/plain": [
       "<matplotlib.figure.Figure at 0x7f7c3489bed0>"
      ]
     },
     "metadata": {},
     "output_type": "display_data"
    }
   ],
   "source": [
    "# plot history\n",
    "plt.plot(history.history['loss'], label='train')\n",
    "plt.plot(history.history['val_loss'], label='test')\n",
    "plt.legend()\n",
    "plt.grid()\n",
    "plt.show()\n"
   ]
  },
  {
   "cell_type": "code",
   "execution_count": 46,
   "metadata": {},
   "outputs": [
    {
     "name": "stdout",
     "output_type": "stream",
     "text": [
      "Test RMSE: 26.394\n"
     ]
    }
   ],
   "source": [
    "# make a prediction\n",
    "yhat = model.predict(test_X)\n",
    "test_X = test_X.reshape((test_X.shape[0], n_hours*n_features))\n",
    "\n",
    "# invert scaling for forecast\n",
    "inv_yhat = np.concatenate((yhat, test_X[:, -7:]), axis=1)\n",
    "inv_yhat = scaler.inverse_transform(inv_yhat)\n",
    "inv_yhat = inv_yhat[:,0]\n",
    "\n",
    "# invert scaling for actual\n",
    "test_y = test_y.reshape((len(test_y), 1))\n",
    "inv_y = np.concatenate((test_y, test_X[:, -7:]), axis=1)\n",
    "inv_y = scaler.inverse_transform(inv_y)\n",
    "inv_y = inv_y[:,0]\n",
    "\n",
    "# calculate RMSE\n",
    "rmse = mt.sqrt(SklMetrics.mean_squared_error(inv_y, inv_yhat))\n",
    "print('Test RMSE: %.3f' % rmse)"
   ]
  }
 ],
 "metadata": {
  "kernelspec": {
   "display_name": "keraEnv",
   "language": "python",
   "name": "keraenv"
  },
  "language_info": {
   "codemirror_mode": {
    "name": "ipython",
    "version": 2
   },
   "file_extension": ".py",
   "mimetype": "text/x-python",
   "name": "python",
   "nbconvert_exporter": "python",
   "pygments_lexer": "ipython2",
   "version": "2.7.12"
  }
 },
 "nbformat": 4,
 "nbformat_minor": 2
}
