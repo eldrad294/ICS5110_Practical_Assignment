{
 "cells": [
  {
   "cell_type": "markdown",
   "metadata": {},
   "source": [
    "### Stacked LSTM for sequence classification\n",
    "- In this model, we stack 3 LSTM layers on top of each other, making the model capable of learning higher-level temporal representations.\n",
    "- The first two LSTMs return their full output sequences, but the last one only returns the last step in its output sequence, thus dropping the temporal dimension (i.e. converting the input sequence into a single vector)."
   ]
  },
  {
   "cell_type": "code",
   "execution_count": 42,
   "metadata": {},
   "outputs": [],
   "source": [
    "%reset -f\n",
    "\n",
    "import numpy as np\n",
    "import matplotlib.pyplot as plt\n",
    "\n",
    "from keras.models import Sequential\n",
    "from keras.layers import LSTM\n",
    "from keras.layers import Dense\n",
    "from keras.layers import Dropout\n",
    "from keras.layers import Embedding\n",
    "from keras.layers import LSTM\n",
    "\n",
    "\n",
    "\n",
    "%matplotlib inline"
   ]
  },
  {
   "cell_type": "code",
   "execution_count": 43,
   "metadata": {},
   "outputs": [
    {
     "name": "stdout",
     "output_type": "stream",
     "text": [
      "_________________________________________________________________\n",
      "Layer (type)                 Output Shape              Param #   \n",
      "=================================================================\n",
      "lstm_39 (LSTM)               (None, 8, 32)             6272      \n",
      "_________________________________________________________________\n",
      "lstm_40 (LSTM)               (None, 8, 32)             8320      \n",
      "_________________________________________________________________\n",
      "lstm_41 (LSTM)               (None, 32)                8320      \n",
      "_________________________________________________________________\n",
      "dense_11 (Dense)             (None, 10)                330       \n",
      "=================================================================\n",
      "Total params: 23,242\n",
      "Trainable params: 23,242\n",
      "Non-trainable params: 0\n",
      "_________________________________________________________________\n",
      "None\n"
     ]
    }
   ],
   "source": [
    "data_dim = 16\n",
    "timesteps = 8\n",
    "num_classes = 10\n",
    "outputDimension = 32\n",
    "\n",
    "# expected input data shape: (batch_size, timesteps, data_dim)\n",
    "model = Sequential()\n",
    "\n",
    "# returns a sequence of vectors of dimension 32\n",
    "model.add(LSTM(outputDimension, return_sequences=True, input_shape=(timesteps, data_dim)))\n",
    "\n",
    "# returns a sequence of vectors of dimension 32\n",
    "model.add(LSTM(outputDimension, return_sequences=True))\n",
    "\n",
    "# return a single vector of dimension 32\n",
    "model.add(LSTM(outputDimension))\n",
    "\n",
    "model.add(Dense(10, activation='softmax'))\n",
    "\n",
    "model.compile(loss='categorical_crossentropy',\n",
    "              optimizer='rmsprop',\n",
    "              metrics=['accuracy'])\n",
    "\n",
    "print model.summary()"
   ]
  },
  {
   "cell_type": "code",
   "execution_count": 44,
   "metadata": {},
   "outputs": [
    {
     "name": "stdout",
     "output_type": "stream",
     "text": [
      "[[ 0.49297606  0.80762436  0.708973    0.98793776  0.39461718  0.16260483\n",
      "   0.7549753   0.65826809  0.23967507  0.35121753  0.4554977   0.23933883\n",
      "   0.31271713  0.73451523  0.81899758  0.58935919]\n",
      " [ 0.76181148  0.03628672  0.97896245  0.03599084  0.48584893  0.51929599\n",
      "   0.8149536   0.55530446  0.24423178  0.15082051  0.07967105  0.31960641\n",
      "   0.80582073  0.17736308  0.42439973  0.81452912]\n",
      " [ 0.45943417  0.89143447  0.30160824  0.69274923  0.07755873  0.65895684\n",
      "   0.93440199  0.62726996  0.95139214  0.53896623  0.85141807  0.28284072\n",
      "   0.33766092  0.5742768   0.55187303  0.73126907]\n",
      " [ 0.19597638  0.80557352  0.38130226  0.30214788  0.30119782  0.22960145\n",
      "   0.42886822  0.55122765  0.79355192  0.65223533  0.1127563   0.30698572\n",
      "   0.98657979  0.66425825  0.71929512  0.46721364]\n",
      " [ 0.70532591  0.39726523  0.71384833  0.49622472  0.48008442  0.21687886\n",
      "   0.64662524  0.74938363  0.79897739  0.79479044  0.92964027  0.06074688\n",
      "   0.07682796  0.32364977  0.12948043  0.75417272]\n",
      " [ 0.36446581  0.12965268  0.17905334  0.8557084   0.12921512  0.04306541\n",
      "   0.90789215  0.94853196  0.11684759  0.21993438  0.14951307  0.83099381\n",
      "   0.04880783  0.98409962  0.56439868  0.99165273]\n",
      " [ 0.62520338  0.89480664  0.42346926  0.73725928  0.05697595  0.90567453\n",
      "   0.70664912  0.1092066   0.82799866  0.07432015  0.03363428  0.11010952\n",
      "   0.53262898  0.50815079  0.38950684  0.86142441]\n",
      " [ 0.96550237  0.62947164  0.6371563   0.22268813  0.5364984   0.52175064\n",
      "   0.04831552  0.96438952  0.37427155  0.92058241  0.24147697  0.03080318\n",
      "   0.17057519  0.49969972  0.56703432  0.93455104]]\n"
     ]
    }
   ],
   "source": [
    "# Generate dummy training data\n",
    "x_train = np.random.random((1001, timesteps, data_dim))\n",
    "y_train = np.random.random((1001, num_classes))\n",
    "\n",
    "# Generate dummy validation data\n",
    "x_val = np.random.random((100, timesteps, data_dim))\n",
    "y_val = np.random.random((100, num_classes))\n",
    "\n",
    "\n",
    "print x_train[0, :, :]"
   ]
  },
  {
   "cell_type": "code",
   "execution_count": 45,
   "metadata": {},
   "outputs": [
    {
     "name": "stdout",
     "output_type": "stream",
     "text": [
      "Train on 1001 samples, validate on 100 samples\n",
      "Epoch 1/5\n",
      "1001/1001 [==============================] - 2s 2ms/step - loss: 11.3866 - acc: 0.1059 - val_loss: 11.2613 - val_acc: 0.1200\n",
      "Epoch 2/5\n",
      "1001/1001 [==============================] - 0s 190us/step - loss: 11.3842 - acc: 0.0999 - val_loss: 11.2626 - val_acc: 0.1100\n",
      "Epoch 3/5\n",
      "1001/1001 [==============================] - 0s 198us/step - loss: 11.3841 - acc: 0.1099 - val_loss: 11.2646 - val_acc: 0.0900\n",
      "Epoch 4/5\n",
      "1001/1001 [==============================] - 0s 194us/step - loss: 11.3832 - acc: 0.1219 - val_loss: 11.2645 - val_acc: 0.0800\n",
      "Epoch 5/5\n",
      "1001/1001 [==============================] - 0s 192us/step - loss: 11.3834 - acc: 0.1209 - val_loss: 11.2608 - val_acc: 0.0800\n"
     ]
    }
   ],
   "source": [
    "hist = model.fit(x_train, y_train,\n",
    "          batch_size=64, epochs=5,\n",
    "          validation_data=(x_val, y_val))"
   ]
  },
  {
   "cell_type": "code",
   "execution_count": 46,
   "metadata": {},
   "outputs": [
    {
     "data": {
      "text/plain": [
       "[<matplotlib.lines.Line2D at 0x7f9a7fa859d0>]"
      ]
     },
     "execution_count": 46,
     "metadata": {},
     "output_type": "execute_result"
    },
    {
     "data": {
      "image/png": "[encoded data removed]",
      "text/plain": [
       "<matplotlib.figure.Figure at 0x7f9a7fa85b10>"
      ]
     },
     "metadata": {},
     "output_type": "display_data"
    }
   ],
   "source": [
    "plt.plot(hist.history['loss'])\n",
    "plt.plot(hist.history['val_loss'])"
   ]
  },
  {
   "cell_type": "markdown",
   "metadata": {},
   "source": [
    "### Same stacked LSTM model, rendered \"stateful\"\n",
    "- A stateful recurrent model is one for which the internal states (memories) obtained after processing a batch of samples are reused as initial states for the samples of the next batch. This allows to process longer sequences while keeping computational complexity manageable.\n",
    "- Read more: https://keras.io/getting-started/faq/#how-can-i-use-stateful-rnns"
   ]
  },
  {
   "cell_type": "code",
   "execution_count": 47,
   "metadata": {},
   "outputs": [
    {
     "name": "stdout",
     "output_type": "stream",
     "text": [
      "_________________________________________________________________\n",
      "Layer (type)                 Output Shape              Param #   \n",
      "=================================================================\n",
      "lstm_42 (LSTM)               (32, 8, 32)               6272      \n",
      "_________________________________________________________________\n",
      "lstm_43 (LSTM)               (32, 8, 32)               8320      \n",
      "_________________________________________________________________\n",
      "lstm_44 (LSTM)               (32, 32)                  8320      \n",
      "_________________________________________________________________\n",
      "dense_12 (Dense)             (32, 10)                  330       \n",
      "=================================================================\n",
      "Total params: 23,242\n",
      "Trainable params: 23,242\n",
      "Non-trainable params: 0\n",
      "_________________________________________________________________\n",
      "None\n"
     ]
    }
   ],
   "source": [
    "data_dim = 16\n",
    "timesteps = 8\n",
    "num_classes = 10\n",
    "batch_size = 32\n",
    "\n",
    "# Expected input batch shape: (batch_size, timesteps, data_dim)\n",
    "# Note that we have to provide the full batch_input_shape since the network is stateful.\n",
    "# the sample of index i in batch k is the follow-up for the sample i in batch k-1.\n",
    "model = Sequential()\n",
    "model.add(LSTM(32, return_sequences=True, stateful=True,\n",
    "               batch_input_shape=(batch_size, timesteps, data_dim)))\n",
    "model.add(LSTM(32, return_sequences=True, stateful=True))\n",
    "model.add(LSTM(32, stateful=True))\n",
    "model.add(Dense(10, activation='softmax'))\n",
    "\n",
    "model.compile(loss='categorical_crossentropy',\n",
    "              optimizer='rmsprop',\n",
    "              metrics=['accuracy'])\n",
    "\n",
    "print model.summary()\n"
   ]
  },
  {
   "cell_type": "code",
   "execution_count": 48,
   "metadata": {},
   "outputs": [],
   "source": [
    "# Generate dummy training data\n",
    "x_train = np.random.random((batch_size * 10, timesteps, data_dim))\n",
    "y_train = np.random.random((batch_size * 10, num_classes))\n",
    "\n",
    "# Generate dummy validation data\n",
    "x_val = np.random.random((batch_size * 3, timesteps, data_dim))\n",
    "y_val = np.random.random((batch_size * 3, num_classes))\n",
    "\n"
   ]
  },
  {
   "cell_type": "code",
   "execution_count": 49,
   "metadata": {},
   "outputs": [
    {
     "name": "stdout",
     "output_type": "stream",
     "text": [
      "Train on 320 samples, validate on 96 samples\n",
      "Epoch 1/5\n",
      "320/320 [==============================] - 2s 5ms/step - loss: 11.6351 - acc: 0.1250 - val_loss: 11.4336 - val_acc: 0.0938\n",
      "Epoch 2/5\n",
      "320/320 [==============================] - 0s 323us/step - loss: 11.6312 - acc: 0.1344 - val_loss: 11.4341 - val_acc: 0.1354\n",
      "Epoch 3/5\n",
      "320/320 [==============================] - 0s 302us/step - loss: 11.6301 - acc: 0.1375 - val_loss: 11.4343 - val_acc: 0.1458\n",
      "Epoch 4/5\n",
      "320/320 [==============================] - 0s 304us/step - loss: 11.6292 - acc: 0.1406 - val_loss: 11.4346 - val_acc: 0.1354\n",
      "Epoch 5/5\n",
      "320/320 [==============================] - 0s 297us/step - loss: 11.6284 - acc: 0.1438 - val_loss: 11.4349 - val_acc: 0.1354\n"
     ]
    }
   ],
   "source": [
    "hist = model.fit(x_train, y_train,\n",
    "          batch_size=batch_size, epochs=5, shuffle=False,\n",
    "          validation_data=(x_val, y_val))"
   ]
  },
  {
   "cell_type": "code",
   "execution_count": 50,
   "metadata": {},
   "outputs": [
    {
     "data": {
      "text/plain": [
       "[<matplotlib.lines.Line2D at 0x7f9a7c934f50>]"
      ]
     },
     "execution_count": 50,
     "metadata": {},
     "output_type": "execute_result"
    },
    {
     "data": {
      "image/png": "[encoded data removed]",
      "text/plain": [
       "<matplotlib.figure.Figure at 0x7f9a7c934a90>"
      ]
     },
     "metadata": {},
     "output_type": "display_data"
    }
   ],
   "source": [
    "plt.plot(hist.history['loss'])\n",
    "plt.plot(hist.history['val_loss'])"
   ]
  },
  {
   "cell_type": "code",
   "execution_count": 51,
   "metadata": {},
   "outputs": [
    {
     "ename": "NameError",
     "evalue": "name 'max_features' is not defined",
     "output_type": "error",
     "traceback": [
      "\u001b[0;31m---------------------------------------------------------------------------\u001b[0m",
      "\u001b[0;31mNameError\u001b[0m                                 Traceback (most recent call last)",
      "\u001b[0;32m<ipython-input-51-bd19e2e3b628>\u001b[0m in \u001b[0;36m<module>\u001b[0;34m()\u001b[0m\n\u001b[1;32m      1\u001b[0m \u001b[0;31m### Sequence classification with LSTM:\u001b[0m\u001b[0;34m\u001b[0m\u001b[0;34m\u001b[0m\u001b[0m\n\u001b[1;32m      2\u001b[0m \u001b[0mmodel\u001b[0m \u001b[0;34m=\u001b[0m \u001b[0mSequential\u001b[0m\u001b[0;34m(\u001b[0m\u001b[0;34m)\u001b[0m\u001b[0;34m\u001b[0m\u001b[0m\n\u001b[0;32m----> 3\u001b[0;31m \u001b[0mmodel\u001b[0m\u001b[0;34m.\u001b[0m\u001b[0madd\u001b[0m\u001b[0;34m(\u001b[0m\u001b[0mEmbedding\u001b[0m\u001b[0;34m(\u001b[0m\u001b[0mmax_features\u001b[0m\u001b[0;34m,\u001b[0m \u001b[0moutput_dim\u001b[0m\u001b[0;34m=\u001b[0m\u001b[0;36m256\u001b[0m\u001b[0;34m)\u001b[0m\u001b[0;34m)\u001b[0m\u001b[0;34m\u001b[0m\u001b[0m\n\u001b[0m\u001b[1;32m      4\u001b[0m \u001b[0mmodel\u001b[0m\u001b[0;34m.\u001b[0m\u001b[0madd\u001b[0m\u001b[0;34m(\u001b[0m\u001b[0mLSTM\u001b[0m\u001b[0;34m(\u001b[0m\u001b[0;36m128\u001b[0m\u001b[0;34m)\u001b[0m\u001b[0;34m)\u001b[0m\u001b[0;34m\u001b[0m\u001b[0m\n\u001b[1;32m      5\u001b[0m \u001b[0mmodel\u001b[0m\u001b[0;34m.\u001b[0m\u001b[0madd\u001b[0m\u001b[0;34m(\u001b[0m\u001b[0mDropout\u001b[0m\u001b[0;34m(\u001b[0m\u001b[0;36m0.5\u001b[0m\u001b[0;34m)\u001b[0m\u001b[0;34m)\u001b[0m\u001b[0;34m\u001b[0m\u001b[0m\n",
      "\u001b[0;31mNameError\u001b[0m: name 'max_features' is not defined"
     ]
    }
   ],
   "source": [
    "### Sequence classification with LSTM:\n",
    "model = Sequential()\n",
    "model.add(Embedding(max_features, output_dim=256))\n",
    "model.add(LSTM(128))\n",
    "model.add(Dropout(0.5))\n",
    "model.add(Dense(1, activation='sigmoid'))\n",
    "\n",
    "model.compile(loss='binary_crossentropy',\n",
    "              optimizer='rmsprop',\n",
    "              metrics=['accuracy'])\n",
    "\n",
    "model.fit(x_train, y_train, batch_size=16, epochs=10)\n",
    "score = model.evaluate(x_test, y_test, batch_size=16)"
   ]
  }
 ],
 "metadata": {
  "kernelspec": {
   "display_name": "keraEnv",
   "language": "python",
   "name": "keraenv"
  },
  "language_info": {
   "codemirror_mode": {
    "name": "ipython",
    "version": 2
   },
   "file_extension": ".py",
   "mimetype": "text/x-python",
   "name": "python",
   "nbconvert_exporter": "python",
   "pygments_lexer": "ipython2",
   "version": "2.7.12"
  }
 },
 "nbformat": 4,
 "nbformat_minor": 2
}
